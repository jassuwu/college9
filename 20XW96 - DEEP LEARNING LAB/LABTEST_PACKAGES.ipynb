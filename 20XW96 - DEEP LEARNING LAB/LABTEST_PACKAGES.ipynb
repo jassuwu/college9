{
 "cells": [
  {
   "cell_type": "code",
   "execution_count": 3,
   "id": "9891088c",
   "metadata": {},
   "outputs": [],
   "source": [
    "import numpy as np\n",
    "import pandas as pd\n",
    "import matplotlib as mplt\n",
    "import scipy as sp\n",
    "import seaborn as sns\n",
    "import sklearn as skl\n",
    "import tensorflow as tf\n",
    "import cv2 as cv\n",
    "import sounddevice as sd"
   ]
  },
  {
   "cell_type": "code",
   "execution_count": 8,
   "id": "381a44c5",
   "metadata": {},
   "outputs": [
    {
     "data": {
      "text/plain": [
       "('1.23.5',\n",
       " '1.5.3',\n",
       " '3.7.0',\n",
       " '1.10.0',\n",
       " '0.12.2',\n",
       " '1.2.1',\n",
       " '2.16.1',\n",
       " '4.9.0',\n",
       " '0.5.0')"
      ]
     },
     "execution_count": 8,
     "metadata": {},
     "output_type": "execute_result"
    }
   ],
   "source": [
    "np.__version__, pd.__version__, mplt.__version__, sp.__version__, sns.__version__, skl.__version__, tf.__version__, cv.__version__, sd.__version__"
   ]
  },
  {
   "cell_type": "code",
   "execution_count": null,
   "id": "e4fcce75",
   "metadata": {},
   "outputs": [],
   "source": []
  }
 ],
 "metadata": {
  "kernelspec": {
   "display_name": "Python 3 (ipykernel)",
   "language": "python",
   "name": "python3"
  },
  "language_info": {
   "codemirror_mode": {
    "name": "ipython",
    "version": 3
   },
   "file_extension": ".py",
   "mimetype": "text/x-python",
   "name": "python",
   "nbconvert_exporter": "python",
   "pygments_lexer": "ipython3",
   "version": "3.10.9"
  }
 },
 "nbformat": 4,
 "nbformat_minor": 5
}
