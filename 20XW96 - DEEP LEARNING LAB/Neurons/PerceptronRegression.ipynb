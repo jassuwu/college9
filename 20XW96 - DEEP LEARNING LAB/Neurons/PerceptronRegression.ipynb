{
 "cells": [
  {
   "cell_type": "code",
   "execution_count": 1,
   "metadata": {},
   "outputs": [],
   "source": [
    "import numpy as np\n",
    "import pandas as pd\n",
    "import matplotlib.pyplot as plt"
   ]
  },
  {
   "cell_type": "markdown",
   "metadata": {},
   "source": [
    "### Construct a model using Perceptron on Soap-Sud Dataset. Do prediction using interpolation and extrapolation and calculate the measures like R^2 and MSE. Also, build a Simple Linear Regression model and compare the models using Perceptron and Simple Linear Regression using R^2 and MSE."
   ]
  },
  {
   "cell_type": "code",
   "execution_count": 3,
   "metadata": {},
   "outputs": [
    {
     "data": {
      "text/html": [
       "<div>\n",
       "<style scoped>\n",
       "    .dataframe tbody tr th:only-of-type {\n",
       "        vertical-align: middle;\n",
       "    }\n",
       "\n",
       "    .dataframe tbody tr th {\n",
       "        vertical-align: top;\n",
       "    }\n",
       "\n",
       "    .dataframe thead th {\n",
       "        text-align: right;\n",
       "    }\n",
       "</style>\n",
       "<table border=\"1\" class=\"dataframe\">\n",
       "  <thead>\n",
       "    <tr style=\"text-align: right;\">\n",
       "      <th></th>\n",
       "      <th>x0</th>\n",
       "      <th>x1</th>\n",
       "      <th>y</th>\n",
       "    </tr>\n",
       "  </thead>\n",
       "  <tbody>\n",
       "    <tr>\n",
       "      <th>0</th>\n",
       "      <td>1.0</td>\n",
       "      <td>4.0</td>\n",
       "      <td>33</td>\n",
       "    </tr>\n",
       "    <tr>\n",
       "      <th>1</th>\n",
       "      <td>1.0</td>\n",
       "      <td>4.5</td>\n",
       "      <td>42</td>\n",
       "    </tr>\n",
       "    <tr>\n",
       "      <th>2</th>\n",
       "      <td>1.0</td>\n",
       "      <td>5.0</td>\n",
       "      <td>45</td>\n",
       "    </tr>\n",
       "    <tr>\n",
       "      <th>3</th>\n",
       "      <td>1.0</td>\n",
       "      <td>5.5</td>\n",
       "      <td>51</td>\n",
       "    </tr>\n",
       "    <tr>\n",
       "      <th>4</th>\n",
       "      <td>1.0</td>\n",
       "      <td>6.0</td>\n",
       "      <td>53</td>\n",
       "    </tr>\n",
       "    <tr>\n",
       "      <th>5</th>\n",
       "      <td>1.0</td>\n",
       "      <td>6.5</td>\n",
       "      <td>61</td>\n",
       "    </tr>\n",
       "    <tr>\n",
       "      <th>6</th>\n",
       "      <td>1.0</td>\n",
       "      <td>7.0</td>\n",
       "      <td>62</td>\n",
       "    </tr>\n",
       "  </tbody>\n",
       "</table>\n",
       "</div>"
      ],
      "text/plain": [
       "    x0   x1   y\n",
       "0  1.0  4.0  33\n",
       "1  1.0  4.5  42\n",
       "2  1.0  5.0  45\n",
       "3  1.0  5.5  51\n",
       "4  1.0  6.0  53\n",
       "5  1.0  6.5  61\n",
       "6  1.0  7.0  62"
      ]
     },
     "execution_count": 3,
     "metadata": {},
     "output_type": "execute_result"
    }
   ],
   "source": [
    "# Dataset\n",
    "# x1 = Soap | y = Sud\n",
    "df = pd.DataFrame({\"x0\":np.ones(7), \"x1\": np.linspace(4.0, 7.0, 7), \"y\": np.array([33, 42, 45, 51, 53, 61, 62])})\n",
    "df"
   ]
  },
  {
   "cell_type": "code",
   "execution_count": 9,
   "metadata": {},
   "outputs": [
    {
     "data": {
      "text/plain": [
       "(    x0   x1\n",
       " 0  1.0  4.0\n",
       " 1  1.0  4.5\n",
       " 2  1.0  5.0\n",
       " 3  1.0  5.5\n",
       " 4  1.0  6.0\n",
       " 5  1.0  6.5\n",
       " 6  1.0  7.0,\n",
       " 0    33\n",
       " 1    42\n",
       " 2    45\n",
       " 3    51\n",
       " 4    53\n",
       " 5    61\n",
       " 6    62\n",
       " Name: y, dtype: int64)"
      ]
     },
     "execution_count": 9,
     "metadata": {},
     "output_type": "execute_result"
    }
   ],
   "source": [
    "X = df.drop(columns=[\"y\"])\n",
    "y = df[\"y\"]\n",
    "X, y"
   ]
  },
  {
   "cell_type": "code",
   "execution_count": 87,
   "metadata": {},
   "outputs": [],
   "source": [
    "def PERCEPTRONNFORREGRESSION(X, y, W, η):\n",
    "    # convergence thru diff threshold\n",
    "    # while not converged\n",
    "    epochs = 1\n",
    "    history = [W.copy()]\n",
    "    while True:\n",
    "        # init iteration_gradient\n",
    "        iteration_gradient = np.array([0.0, 0.0])\n",
    "        # for each point in the dataset (x0, x1)\n",
    "        for iteration in range(X.shape[0]):\n",
    "            # find yHat = W.T.X\n",
    "            yHat = np.dot(W.T, np.array(X.iloc[iteration]))\n",
    "            # find grad = d/dW (Error fn)\n",
    "            grad = (y.iloc[iteration] - yHat) * np.array(X.iloc[iteration])\n",
    "            # update iteration_gradient\n",
    "            iteration_gradient += grad\n",
    "        # check for convergence\n",
    "        wNew = W + η * iteration_gradient\n",
    "        history.append(wNew.copy())\n",
    "        if np.allclose(wNew, W):\n",
    "            break\n",
    "        # update W with the iteration_gradient\n",
    "        W = wNew\n",
    "        epochs += 1\n",
    "    return W, epochs, history"
   ]
  },
  {
   "cell_type": "code",
   "execution_count": 79,
   "metadata": {},
   "outputs": [],
   "source": [
    "def plot_line_progression(W_history, X):\n",
    "    # Assuming W_history is a list of weight vectors over epochs\n",
    "    _, ax = plt.subplots(figsize=(8, 8))\n",
    "    \n",
    "    # Plot each line corresponding to W in W_history\n",
    "    for W in W_history:\n",
    "        if np.abs(W[1]) > 1e-8:  # Avoid division by zero if w1 is close to zero\n",
    "            x0_vals = np.linspace(min(X[:, 0]), max(X[:, 0]), 100)\n",
    "            x1_vals = -W[0] / W[1] * x0_vals\n",
    "            ax.plot(x0_vals, x1_vals, label=f'Line: {W[0]:.2f}x0 + {W[1]:.2f}x1 = 0')\n",
    "    \n",
    "    # Scatter plot of the data points (assuming X is a 2D array)\n",
    "    ax.scatter(X[:, 0], X[:, 1], color='red', label='Data Points')\n",
    "    \n",
    "    ax.set_xlabel('x0')\n",
    "    ax.set_ylabel('x1')\n",
    "    ax.set_title('Progression of Line Equation wTx = 0')\n",
    "    ax.legend()\n",
    "    ax.grid(True)\n",
    "    plt.tight_layout()\n",
    "    plt.show()"
   ]
  },
  {
   "cell_type": "code",
   "execution_count": 88,
   "metadata": {},
   "outputs": [
    {
     "name": "stdout",
     "output_type": "stream",
     "text": [
      "[1.51084165 8.75815155] in 342 epochs.\n"
     ]
    }
   ],
   "source": [
    "# W = np.array([0, 0])\n",
    "# W, epochs, w_history = PERCEPTRONNFORREGRESSION(X, y, W, 0.0001, 1e-4)\n",
    "print(f\"{W} in {epochs} epochs.\")\n"
   ]
  }
 ],
 "metadata": {
  "kernelspec": {
   "display_name": "Python 3 (ipykernel)",
   "language": "python",
   "name": "python3"
  },
  "language_info": {
   "codemirror_mode": {
    "name": "ipython",
    "version": 3
   },
   "file_extension": ".py",
   "mimetype": "text/x-python",
   "name": "python",
   "nbconvert_exporter": "python",
   "pygments_lexer": "ipython3",
   "version": "3.10.9"
  }
 },
 "nbformat": 4,
 "nbformat_minor": 2
}
